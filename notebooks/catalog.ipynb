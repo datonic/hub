{
 "cells": [
  {
   "cell_type": "code",
   "execution_count": 1,
   "metadata": {},
   "outputs": [],
   "source": [
    "from frictionless import Catalog\n"
   ]
  },
  {
   "cell_type": "code",
   "execution_count": 2,
   "metadata": {},
   "outputs": [],
   "source": [
    "c = Catalog(\"../awesome_random_datasets.yaml\")\n"
   ]
  },
  {
   "cell_type": "code",
   "execution_count": 3,
   "metadata": {},
   "outputs": [
    {
     "data": {
      "text/html": [
       "<div>\n",
       "<style scoped>\n",
       "    .dataframe tbody tr th:only-of-type {\n",
       "        vertical-align: middle;\n",
       "    }\n",
       "\n",
       "    .dataframe tbody tr th {\n",
       "        vertical-align: top;\n",
       "    }\n",
       "\n",
       "    .dataframe thead th {\n",
       "        text-align: right;\n",
       "    }\n",
       "</style>\n",
       "<table border=\"1\" class=\"dataframe\">\n",
       "  <thead>\n",
       "    <tr style=\"text-align: right;\">\n",
       "      <th></th>\n",
       "      <th>year</th>\n",
       "      <th>month</th>\n",
       "      <th>decimal</th>\n",
       "      <th>average</th>\n",
       "      <th>average_unc</th>\n",
       "      <th>trend</th>\n",
       "      <th>trend_unc</th>\n",
       "    </tr>\n",
       "  </thead>\n",
       "  <tbody>\n",
       "    <tr>\n",
       "      <th>374</th>\n",
       "      <td>2010</td>\n",
       "      <td>3</td>\n",
       "      <td>2010.208</td>\n",
       "      <td>389.68</td>\n",
       "      <td>0.10</td>\n",
       "      <td>388.03</td>\n",
       "      <td>0.05</td>\n",
       "    </tr>\n",
       "    <tr>\n",
       "      <th>235</th>\n",
       "      <td>1998</td>\n",
       "      <td>8</td>\n",
       "      <td>1998.625</td>\n",
       "      <td>363.79</td>\n",
       "      <td>0.09</td>\n",
       "      <td>366.28</td>\n",
       "      <td>0.05</td>\n",
       "    </tr>\n",
       "    <tr>\n",
       "      <th>179</th>\n",
       "      <td>1993</td>\n",
       "      <td>12</td>\n",
       "      <td>1993.958</td>\n",
       "      <td>357.86</td>\n",
       "      <td>0.11</td>\n",
       "      <td>357.49</td>\n",
       "      <td>0.07</td>\n",
       "    </tr>\n",
       "    <tr>\n",
       "      <th>483</th>\n",
       "      <td>2019</td>\n",
       "      <td>4</td>\n",
       "      <td>2019.292</td>\n",
       "      <td>411.35</td>\n",
       "      <td>0.11</td>\n",
       "      <td>409.52</td>\n",
       "      <td>0.08</td>\n",
       "    </tr>\n",
       "    <tr>\n",
       "      <th>512</th>\n",
       "      <td>2021</td>\n",
       "      <td>9</td>\n",
       "      <td>2021.708</td>\n",
       "      <td>412.38</td>\n",
       "      <td>0.07</td>\n",
       "      <td>415.24</td>\n",
       "      <td>0.06</td>\n",
       "    </tr>\n",
       "  </tbody>\n",
       "</table>\n",
       "</div>"
      ],
      "text/plain": [
       "     year month   decimal average average_unc   trend trend_unc\n",
       "374  2010     3  2010.208  389.68        0.10  388.03      0.05\n",
       "235  1998     8  1998.625  363.79        0.09  366.28      0.05\n",
       "179  1993    12  1993.958  357.86        0.11  357.49      0.07\n",
       "483  2019     4  2019.292  411.35        0.11  409.52      0.08\n",
       "512  2021     9  2021.708  412.38        0.07  415.24      0.06"
      ]
     },
     "execution_count": 3,
     "metadata": {},
     "output_type": "execute_result"
    }
   ],
   "source": [
    "c.get_dataset(\"co2\").package.get_resource(\"co2_mm_gl\").to_pandas().sample(5)\n"
   ]
  },
  {
   "cell_type": "code",
   "execution_count": 4,
   "metadata": {},
   "outputs": [
    {
     "data": {
      "text/plain": [
       "{'name': 'rotten_tomatoes',\n",
       " 'type': 'table',\n",
       " 'path': 'https://huggingface.co/datasets/rotten_tomatoes/resolve/refs%2Fconvert%2Fparquet/default/rotten_tomatoes-train.parquet',\n",
       " 'scheme': 'https',\n",
       " 'format': 'parquet',\n",
       " 'mediatype': 'appliction/parquet'}"
      ]
     },
     "execution_count": 4,
     "metadata": {},
     "output_type": "execute_result"
    }
   ],
   "source": [
    "c.get_dataset(\"rotten_tomatoes\").package.get_resource(\"rotten_tomatoes\")\n"
   ]
  },
  {
   "cell_type": "code",
   "execution_count": 5,
   "metadata": {},
   "outputs": [
    {
     "data": {
      "text/plain": [
       "{'name': 'co2_mm_mlo',\n",
       " 'type': 'table',\n",
       " 'path': 'https://gml.noaa.gov/webdata/ccgg/trends/co2/co2_mm_mlo.csv',\n",
       " 'scheme': 'https',\n",
       " 'format': 'csv',\n",
       " 'mediatype': 'text/csv'}"
      ]
     },
     "execution_count": 5,
     "metadata": {},
     "output_type": "execute_result"
    }
   ],
   "source": [
    "c.get_dataset(\"ipfs_co2\").package.get_resource(\"co2_mm_mlo\")\n"
   ]
  }
 ],
 "metadata": {
  "kernelspec": {
   "display_name": "Python 3",
   "language": "python",
   "name": "python3"
  },
  "language_info": {
   "codemirror_mode": {
    "name": "ipython",
    "version": 3
   },
   "file_extension": ".py",
   "mimetype": "text/x-python",
   "name": "python",
   "nbconvert_exporter": "python",
   "pygments_lexer": "ipython3",
   "version": "3.11.2"
  },
  "orig_nbformat": 4
 },
 "nbformat": 4,
 "nbformat_minor": 2
}
