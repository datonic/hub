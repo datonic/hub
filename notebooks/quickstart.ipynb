{
 "cells": [
  {
   "attachments": {},
   "cell_type": "markdown",
   "metadata": {},
   "source": [
    "# Quickstart\n",
    "\n",
    "\n",
    "Let's package the \"[Trends in Atmospheric Carbon Dioxide](https://gml.noaa.gov/ccgg/trends/global.html)\" dataset. This dataset is available as a CSV file and is updated on a daily basis. We can either package the external dataset or duplicate the data and package that instead."
   ]
  },
  {
   "cell_type": "code",
   "execution_count": 1,
   "metadata": {},
   "outputs": [],
   "source": [
    "from frictionless import Package"
   ]
  },
  {
   "attachments": {},
   "cell_type": "markdown",
   "metadata": {},
   "source": [
    "## Packaging External Data\n",
    "\n",
    "Let's start with the simplest option, packaging the external dataset. To do that, we simply wrap the dataset around a [Frictionless Data Package](https://specs.frictionlessdata.io/data-package/). We can do this by creating a `datapackage.yaml` file and adding the dataset as a resource."
   ]
  },
  {
   "cell_type": "code",
   "execution_count": 2,
   "metadata": {},
   "outputs": [
    {
     "name": "stdout",
     "output_type": "stream",
     "text": [
      "Writing /tmp/external_data_datapackage.yaml\n"
     ]
    }
   ],
   "source": [
    "%%writefile /tmp/external_data_datapackage.yaml\n",
    "name: co2-mm-mlo\n",
    "title: Trends in Atmospheric Carbon Dioxide\n",
    "resources:\n",
    "  - name: co2_trend_gl\n",
    "    type: table\n",
    "    path: https://gml.noaa.gov/webdata/ccgg/trends/co2/co2_trend_gl.csv\n",
    "    scheme: https\n",
    "    format: csv\n",
    "    mediatype: text/csv\n",
    "    encoding: utf-8\n",
    "    dialect:\n",
    "      headerRows:\n",
    "        - 42\n",
    "    schema:\n",
    "      fields:\n",
    "        - name: year\n",
    "          type: string\n",
    "        - name: month\n",
    "          type: string\n",
    "        - name: day\n",
    "          type: string\n",
    "        - name: smoothed\n",
    "          type: string\n",
    "        - name: trend\n",
    "          type: string"
   ]
  },
  {
   "attachments": {},
   "cell_type": "markdown",
   "metadata": {},
   "source": [
    "Now, any tool compatible with the Frictionless Data Package Specs can use the dataset."
   ]
  },
  {
   "cell_type": "code",
   "execution_count": 3,
   "metadata": {},
   "outputs": [],
   "source": [
    "p = Package(\"/tmp/external_data_datapackage.yaml\")"
   ]
  },
  {
   "cell_type": "code",
   "execution_count": 4,
   "metadata": {},
   "outputs": [
    {
     "data": {
      "text/html": [
       "<div>\n",
       "<style scoped>\n",
       "    .dataframe tbody tr th:only-of-type {\n",
       "        vertical-align: middle;\n",
       "    }\n",
       "\n",
       "    .dataframe tbody tr th {\n",
       "        vertical-align: top;\n",
       "    }\n",
       "\n",
       "    .dataframe thead th {\n",
       "        text-align: right;\n",
       "    }\n",
       "</style>\n",
       "<table border=\"1\" class=\"dataframe\">\n",
       "  <thead>\n",
       "    <tr style=\"text-align: right;\">\n",
       "      <th></th>\n",
       "      <th>year</th>\n",
       "      <th>month</th>\n",
       "      <th>day</th>\n",
       "      <th>smoothed</th>\n",
       "      <th>trend</th>\n",
       "    </tr>\n",
       "  </thead>\n",
       "  <tbody>\n",
       "    <tr>\n",
       "      <th>0</th>\n",
       "      <td>2014</td>\n",
       "      <td>1</td>\n",
       "      <td>18</td>\n",
       "      <td>397.81</td>\n",
       "      <td>396.46</td>\n",
       "    </tr>\n",
       "    <tr>\n",
       "      <th>1</th>\n",
       "      <td>2014</td>\n",
       "      <td>1</td>\n",
       "      <td>19</td>\n",
       "      <td>397.83</td>\n",
       "      <td>396.47</td>\n",
       "    </tr>\n",
       "    <tr>\n",
       "      <th>2</th>\n",
       "      <td>2014</td>\n",
       "      <td>1</td>\n",
       "      <td>20</td>\n",
       "      <td>397.85</td>\n",
       "      <td>396.48</td>\n",
       "    </tr>\n",
       "    <tr>\n",
       "      <th>3</th>\n",
       "      <td>2014</td>\n",
       "      <td>1</td>\n",
       "      <td>21</td>\n",
       "      <td>397.87</td>\n",
       "      <td>396.48</td>\n",
       "    </tr>\n",
       "    <tr>\n",
       "      <th>4</th>\n",
       "      <td>2014</td>\n",
       "      <td>1</td>\n",
       "      <td>22</td>\n",
       "      <td>397.89</td>\n",
       "      <td>396.49</td>\n",
       "    </tr>\n",
       "  </tbody>\n",
       "</table>\n",
       "</div>"
      ],
      "text/plain": [
       "   year month day  smoothed     trend\n",
       "0  2014     1  18    397.81    396.46\n",
       "1  2014     1  19    397.83    396.47\n",
       "2  2014     1  20    397.85    396.48\n",
       "3  2014     1  21    397.87    396.48\n",
       "4  2014     1  22    397.89    396.49"
      ]
     },
     "execution_count": 4,
     "metadata": {},
     "output_type": "execute_result"
    }
   ],
   "source": [
    "p.resources[0].to_pandas().head()"
   ]
  },
  {
   "attachments": {},
   "cell_type": "markdown",
   "metadata": {},
   "source": [
    "As you can see, the package is simply pointing to the path of the dataset. This means that the dataset is not duplicated and the package is not self-contained. This is the simplest option, but it has some drawbacks:\n",
    "\n",
    "- If the original dataset is deleted, the package will be broken.\n",
    "- If the original dataset is updated, the package will be broken. You need to manually update the package to point to the new dataset.\n",
    "\n",
    "This could be a great starting point to make the dataset available to the ecosystem. That said, for most use cases, you will want to duplicate the data itself and package that instead."
   ]
  },
  {
   "attachments": {},
   "cell_type": "markdown",
   "metadata": {},
   "source": [
    "### Saving the Data\n",
    "\n",
    "Most datasets are not updated frequently or are relatively small in size. A great approach is to use Github Actions to bake the data into the GitHub repository as a CSV. That will provide versioned data alongside a versioned package.\n",
    "\n",
    "This repository serves as an example of how to do that. You can check the GitHub Actions workflow and the `run.py` script to see how it's done. Basically, every day a job is executed that downloads and overwrite the entire dataset. This is a simple approach, but it works well for most use cases."
   ]
  },
  {
   "attachments": {},
   "cell_type": "markdown",
   "metadata": {},
   "source": [
    "## Creating a Catalog\n",
    "\n",
    "A catalog is a collection of packages. It's a great way to organize and group packages. It's also a great way to link similar packages together and make them quickly discoverable."
   ]
  },
  {
   "cell_type": "code",
   "execution_count": 5,
   "metadata": {},
   "outputs": [],
   "source": [
    "from frictionless import Catalog"
   ]
  },
  {
   "cell_type": "code",
   "execution_count": 6,
   "metadata": {},
   "outputs": [
    {
     "name": "stdout",
     "output_type": "stream",
     "text": [
      "Writing /tmp/datapackage_catalog.yaml\n"
     ]
    }
   ],
   "source": [
    "%%writefile /tmp/datapackage_catalog.yaml\n",
    "datasets:\n",
    "  - name: co2_trend_gl\n",
    "    package: /tmp/external_data_datapackage.yaml\n",
    "  - name: oil\n",
    "    package: https://raw.githubusercontent.com/datasets/oil-prices/main/datapackage.json\n",
    "  - name: rotten_tomatoes\n",
    "    package:\n",
    "      name: rotten_tomatoes\n",
    "      resources:\n",
    "        - name: rotten_tomatoes\n",
    "          path: https://huggingface.co/datasets/rotten_tomatoes/resolve/refs%2Fconvert%2Fparquet/default/rotten_tomatoes-train.parquet\n",
    "  - name: ipfs_co2\n",
    "    package: https://bafybeierqai7xkaxkyakdynw5uq7f2g4o5uz3kzvnh55thmazcff3bwgse.ipfs.w3s.link/ipfs_datapackage.yaml\n"
   ]
  },
  {
   "cell_type": "code",
   "execution_count": 7,
   "metadata": {},
   "outputs": [],
   "source": [
    "c = Catalog(\"/tmp/datapackage_catalog.yaml\")"
   ]
  },
  {
   "cell_type": "code",
   "execution_count": 8,
   "metadata": {},
   "outputs": [
    {
     "data": {
      "text/html": [
       "<div>\n",
       "<style scoped>\n",
       "    .dataframe tbody tr th:only-of-type {\n",
       "        vertical-align: middle;\n",
       "    }\n",
       "\n",
       "    .dataframe tbody tr th {\n",
       "        vertical-align: top;\n",
       "    }\n",
       "\n",
       "    .dataframe thead th {\n",
       "        text-align: right;\n",
       "    }\n",
       "</style>\n",
       "<table border=\"1\" class=\"dataframe\">\n",
       "  <thead>\n",
       "    <tr style=\"text-align: right;\">\n",
       "      <th></th>\n",
       "      <th>Date</th>\n",
       "      <th>Price</th>\n",
       "    </tr>\n",
       "  </thead>\n",
       "  <tbody>\n",
       "    <tr>\n",
       "      <th>9215</th>\n",
       "      <td>2023-09-12</td>\n",
       "      <td>93.58</td>\n",
       "    </tr>\n",
       "    <tr>\n",
       "      <th>9216</th>\n",
       "      <td>2023-09-13</td>\n",
       "      <td>93.04</td>\n",
       "    </tr>\n",
       "    <tr>\n",
       "      <th>9217</th>\n",
       "      <td>2023-09-14</td>\n",
       "      <td>95.20</td>\n",
       "    </tr>\n",
       "    <tr>\n",
       "      <th>9218</th>\n",
       "      <td>2023-09-15</td>\n",
       "      <td>95.55</td>\n",
       "    </tr>\n",
       "    <tr>\n",
       "      <th>9219</th>\n",
       "      <td>2023-09-18</td>\n",
       "      <td>95.95</td>\n",
       "    </tr>\n",
       "  </tbody>\n",
       "</table>\n",
       "</div>"
      ],
      "text/plain": [
       "           Date  Price\n",
       "9215 2023-09-12  93.58\n",
       "9216 2023-09-13  93.04\n",
       "9217 2023-09-14  95.20\n",
       "9218 2023-09-15  95.55\n",
       "9219 2023-09-18  95.95"
      ]
     },
     "execution_count": 8,
     "metadata": {},
     "output_type": "execute_result"
    }
   ],
   "source": [
    "c.get_dataset(\"oil\").package.get_resource(\"brent-daily\").to_pandas().tail(5)"
   ]
  }
 ],
 "metadata": {
  "kernelspec": {
   "display_name": "Python 3",
   "language": "python",
   "name": "python3"
  },
  "language_info": {
   "codemirror_mode": {
    "name": "ipython",
    "version": 3
   },
   "file_extension": ".py",
   "mimetype": "text/x-python",
   "name": "python",
   "nbconvert_exporter": "python",
   "pygments_lexer": "ipython3",
   "version": "3.12.3"
  },
  "orig_nbformat": 4
 },
 "nbformat": 4,
 "nbformat_minor": 2
}
