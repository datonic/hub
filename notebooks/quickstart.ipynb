{
 "cells": [
  {
   "attachments": {},
   "cell_type": "markdown",
   "metadata": {},
   "source": [
    "# Quickstart\n",
    "\n",
    "\n",
    "Let's package the \"[Trends in Atmospheric Carbon Dioxide](https://gml.noaa.gov/ccgg/trends/global.html)\" dataset. This dataset is available as a CSV file and is updated on a daily basis. We can either package the external dataset or duplicate the data and package that instead. Each approach has it's pros and cons.\n",
    "\n",
    "Let's start with the simplest option, packaging the external dataset. To do that, we simply wrap the dataset around a [Frictionless Data Package](https://specs.frictionlessdata.io/data-package/)."
   ]
  },
  {
   "cell_type": "code",
   "execution_count": 5,
   "metadata": {},
   "outputs": [],
   "source": [
    "from frictionless import Package\n"
   ]
  },
  {
   "cell_type": "code",
   "execution_count": 21,
   "metadata": {},
   "outputs": [
    {
     "name": "stdout",
     "output_type": "stream",
     "text": [
      "Overwriting /tmp/external_data_datapackage.yaml\n"
     ]
    }
   ],
   "source": [
    "%%writefile /tmp/external_data_datapackage.yaml\n",
    "name: co2-mm-mlo\n",
    "title: Trends in Atmospheric Carbon Dioxide\n",
    "resources:\n",
    "  - name: co2_trend_gl\n",
    "    type: table\n",
    "    path: https://gml.noaa.gov/webdata/ccgg/trends/co2/co2_trend_gl.csv\n",
    "    scheme: https\n",
    "    format: csv\n",
    "    mediatype: text/csv\n",
    "    encoding: utf-8\n",
    "    dialect:\n",
    "      headerRows:\n",
    "        - 42\n",
    "    schema:\n",
    "      fields:\n",
    "        - name: year\n",
    "          type: string\n",
    "        - name: month\n",
    "          type: string\n",
    "        - name: day\n",
    "          type: string\n",
    "        - name: smoothed\n",
    "          type: string\n",
    "        - name: trend\n",
    "          type: string"
   ]
  },
  {
   "cell_type": "code",
   "execution_count": 23,
   "metadata": {},
   "outputs": [],
   "source": [
    "p = Package(\"/tmp/external_data_datapackage.yaml\")\n"
   ]
  },
  {
   "cell_type": "code",
   "execution_count": 25,
   "metadata": {},
   "outputs": [
    {
     "data": {
      "text/html": [
       "<div>\n",
       "<style scoped>\n",
       "    .dataframe tbody tr th:only-of-type {\n",
       "        vertical-align: middle;\n",
       "    }\n",
       "\n",
       "    .dataframe tbody tr th {\n",
       "        vertical-align: top;\n",
       "    }\n",
       "\n",
       "    .dataframe thead th {\n",
       "        text-align: right;\n",
       "    }\n",
       "</style>\n",
       "<table border=\"1\" class=\"dataframe\">\n",
       "  <thead>\n",
       "    <tr style=\"text-align: right;\">\n",
       "      <th></th>\n",
       "      <th>year</th>\n",
       "      <th>month</th>\n",
       "      <th>day</th>\n",
       "      <th>smoothed</th>\n",
       "      <th>trend</th>\n",
       "    </tr>\n",
       "  </thead>\n",
       "  <tbody>\n",
       "    <tr>\n",
       "      <th>0</th>\n",
       "      <td>2013</td>\n",
       "      <td>1</td>\n",
       "      <td>1</td>\n",
       "      <td>395.18</td>\n",
       "      <td>394.28</td>\n",
       "    </tr>\n",
       "    <tr>\n",
       "      <th>1</th>\n",
       "      <td>2013</td>\n",
       "      <td>1</td>\n",
       "      <td>2</td>\n",
       "      <td>395.20</td>\n",
       "      <td>394.29</td>\n",
       "    </tr>\n",
       "    <tr>\n",
       "      <th>2</th>\n",
       "      <td>2013</td>\n",
       "      <td>1</td>\n",
       "      <td>3</td>\n",
       "      <td>395.22</td>\n",
       "      <td>394.29</td>\n",
       "    </tr>\n",
       "    <tr>\n",
       "      <th>3</th>\n",
       "      <td>2013</td>\n",
       "      <td>1</td>\n",
       "      <td>4</td>\n",
       "      <td>395.24</td>\n",
       "      <td>394.30</td>\n",
       "    </tr>\n",
       "    <tr>\n",
       "      <th>4</th>\n",
       "      <td>2013</td>\n",
       "      <td>1</td>\n",
       "      <td>5</td>\n",
       "      <td>395.27</td>\n",
       "      <td>394.31</td>\n",
       "    </tr>\n",
       "  </tbody>\n",
       "</table>\n",
       "</div>"
      ],
      "text/plain": [
       "   year month day  smoothed     trend\n",
       "0  2013     1   1    395.18    394.28\n",
       "1  2013     1   2    395.20    394.29\n",
       "2  2013     1   3    395.22    394.29\n",
       "3  2013     1   4    395.24    394.30\n",
       "4  2013     1   5    395.27    394.31"
      ]
     },
     "execution_count": 25,
     "metadata": {},
     "output_type": "execute_result"
    }
   ],
   "source": [
    "p.resources[0].to_pandas().head()\n"
   ]
  }
 ],
 "metadata": {
  "kernelspec": {
   "display_name": "Python 3",
   "language": "python",
   "name": "python3"
  },
  "language_info": {
   "codemirror_mode": {
    "name": "ipython",
    "version": 3
   },
   "file_extension": ".py",
   "mimetype": "text/x-python",
   "name": "python",
   "nbconvert_exporter": "python",
   "pygments_lexer": "ipython3",
   "version": "3.11.2"
  },
  "orig_nbformat": 4
 },
 "nbformat": 4,
 "nbformat_minor": 2
}
