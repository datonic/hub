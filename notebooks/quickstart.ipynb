{
 "cells": [
  {
   "attachments": {},
   "cell_type": "markdown",
   "metadata": {},
   "source": [
    "# Quickstart\n",
    "\n",
    "\n",
    "Let's package the \"[Trends in Atmospheric Carbon Dioxide](https://gml.noaa.gov/ccgg/trends/global.html)\" dataset. This dataset is available as a CSV file and is updated on a daily basis. We can either package the external dataset or duplicate the data and package that instead."
   ]
  },
  {
   "cell_type": "code",
   "execution_count": 3,
   "metadata": {},
   "outputs": [],
   "source": [
    "from frictionless import Package\n"
   ]
  },
  {
   "attachments": {},
   "cell_type": "markdown",
   "metadata": {},
   "source": [
    "## Packaging External Data\n",
    "\n",
    "Let's start with the simplest option, packaging the external dataset. To do that, we simply wrap the dataset around a [Frictionless Data Package](https://specs.frictionlessdata.io/data-package/). We can do this by creating a `datapackage.yaml` file and adding the dataset as a resource."
   ]
  },
  {
   "cell_type": "code",
   "execution_count": 4,
   "metadata": {},
   "outputs": [
    {
     "name": "stdout",
     "output_type": "stream",
     "text": [
      "Overwriting /tmp/external_data_datapackage.yaml\n"
     ]
    }
   ],
   "source": [
    "%%writefile /tmp/external_data_datapackage.yaml\n",
    "name: co2-mm-mlo\n",
    "title: Trends in Atmospheric Carbon Dioxide\n",
    "resources:\n",
    "  - name: co2_trend_gl\n",
    "    type: table\n",
    "    path: https://gml.noaa.gov/webdata/ccgg/trends/co2/co2_trend_gl.csv\n",
    "    scheme: https\n",
    "    format: csv\n",
    "    mediatype: text/csv\n",
    "    encoding: utf-8\n",
    "    dialect:\n",
    "      headerRows:\n",
    "        - 42\n",
    "    schema:\n",
    "      fields:\n",
    "        - name: year\n",
    "          type: string\n",
    "        - name: month\n",
    "          type: string\n",
    "        - name: day\n",
    "          type: string\n",
    "        - name: smoothed\n",
    "          type: string\n",
    "        - name: trend\n",
    "          type: string"
   ]
  },
  {
   "attachments": {},
   "cell_type": "markdown",
   "metadata": {},
   "source": [
    "Now, any tool compatible with the Frictionless Data Package Specs can use the dataset."
   ]
  },
  {
   "cell_type": "code",
   "execution_count": 5,
   "metadata": {},
   "outputs": [],
   "source": [
    "p = Package(\"/tmp/external_data_datapackage.yaml\")\n"
   ]
  },
  {
   "cell_type": "code",
   "execution_count": 6,
   "metadata": {},
   "outputs": [
    {
     "data": {
      "text/html": [
       "<div>\n",
       "<style scoped>\n",
       "    .dataframe tbody tr th:only-of-type {\n",
       "        vertical-align: middle;\n",
       "    }\n",
       "\n",
       "    .dataframe tbody tr th {\n",
       "        vertical-align: top;\n",
       "    }\n",
       "\n",
       "    .dataframe thead th {\n",
       "        text-align: right;\n",
       "    }\n",
       "</style>\n",
       "<table border=\"1\" class=\"dataframe\">\n",
       "  <thead>\n",
       "    <tr style=\"text-align: right;\">\n",
       "      <th></th>\n",
       "      <th>year</th>\n",
       "      <th>month</th>\n",
       "      <th>day</th>\n",
       "      <th>smoothed</th>\n",
       "      <th>trend</th>\n",
       "    </tr>\n",
       "  </thead>\n",
       "  <tbody>\n",
       "    <tr>\n",
       "      <th>0</th>\n",
       "      <td>2013</td>\n",
       "      <td>1</td>\n",
       "      <td>1</td>\n",
       "      <td>395.18</td>\n",
       "      <td>394.28</td>\n",
       "    </tr>\n",
       "    <tr>\n",
       "      <th>1</th>\n",
       "      <td>2013</td>\n",
       "      <td>1</td>\n",
       "      <td>2</td>\n",
       "      <td>395.20</td>\n",
       "      <td>394.29</td>\n",
       "    </tr>\n",
       "    <tr>\n",
       "      <th>2</th>\n",
       "      <td>2013</td>\n",
       "      <td>1</td>\n",
       "      <td>3</td>\n",
       "      <td>395.22</td>\n",
       "      <td>394.29</td>\n",
       "    </tr>\n",
       "    <tr>\n",
       "      <th>3</th>\n",
       "      <td>2013</td>\n",
       "      <td>1</td>\n",
       "      <td>4</td>\n",
       "      <td>395.24</td>\n",
       "      <td>394.30</td>\n",
       "    </tr>\n",
       "    <tr>\n",
       "      <th>4</th>\n",
       "      <td>2013</td>\n",
       "      <td>1</td>\n",
       "      <td>5</td>\n",
       "      <td>395.27</td>\n",
       "      <td>394.31</td>\n",
       "    </tr>\n",
       "  </tbody>\n",
       "</table>\n",
       "</div>"
      ],
      "text/plain": [
       "   year month day  smoothed     trend\n",
       "0  2013     1   1    395.18    394.28\n",
       "1  2013     1   2    395.20    394.29\n",
       "2  2013     1   3    395.22    394.29\n",
       "3  2013     1   4    395.24    394.30\n",
       "4  2013     1   5    395.27    394.31"
      ]
     },
     "execution_count": 6,
     "metadata": {},
     "output_type": "execute_result"
    }
   ],
   "source": [
    "p.resources[0].to_pandas().head()\n"
   ]
  },
  {
   "attachments": {},
   "cell_type": "markdown",
   "metadata": {},
   "source": [
    "As you can see, the package is simply pointing to the path of the dataset. This means that the dataset is not duplicated and the package is not self-contained. This is the simplest option, but it has some drawbacks:\n",
    "\n",
    "- If the original dataset is deleted, the package will be broken.\n",
    "- If the original dataset is updated, the package will be broken. You need to manually update the package to point to the new dataset.\n",
    "\n",
    "This could be a great starting point to make the dataset available to the ecosystem. That said, for most use cases, you will want to duplicate the data itself and package that instead."
   ]
  },
  {
   "attachments": {},
   "cell_type": "markdown",
   "metadata": {},
   "source": [
    "### Saving the Data\n",
    "\n",
    "Most datasets are not updated frequently or are relatively small in size. A great approach is to use Github Actions to bake the data into the GitHub repository as a CSV. That will provide versioned data alongside a versioned package.\n",
    "\n",
    "This repository serves as an example of how to do that. You can check the GitHub Actions workflow and the `run.py` script to see how it's done. Basically, every day a job is executed that downloads and overwrite the entire dataset. This is a simple approach, but it works well for most use cases."
   ]
  },
  {
   "attachments": {},
   "cell_type": "markdown",
   "metadata": {},
   "source": [
    "## Creating a Catalog\n",
    "\n",
    "A catalog is a collection of packages. It's a great way to organize and group packages. It's also a great way to link similar packages together and make them quickly discoverable."
   ]
  },
  {
   "cell_type": "code",
   "execution_count": 7,
   "metadata": {},
   "outputs": [],
   "source": [
    "from frictionless import Catalog\n"
   ]
  },
  {
   "cell_type": "code",
   "execution_count": 8,
   "metadata": {},
   "outputs": [
    {
     "name": "stdout",
     "output_type": "stream",
     "text": [
      "Writing /tmp/datapackage_catalog.yaml\n"
     ]
    }
   ],
   "source": [
    "%%writefile /tmp/datapackage_catalog.yaml\n",
    "datasets:\n",
    "  - name: co2_trend_gl\n",
    "    package: /tmp/external_data_datapackage.yaml\n",
    "  - name: oil\n",
    "    package: https://raw.githubusercontent.com/datasets/oil-prices/main/datapackage.json\n",
    "  - name: rotten_tomatoes\n",
    "    package:\n",
    "      name: rotten_tomatoes\n",
    "      resources:\n",
    "        - name: rotten_tomatoes\n",
    "          path: https://huggingface.co/datasets/rotten_tomatoes/resolve/refs%2Fconvert%2Fparquet/default/rotten_tomatoes-train.parquet\n",
    "  - name: ipfs_co2\n",
    "    package: https://bafybeierqai7xkaxkyakdynw5uq7f2g4o5uz3kzvnh55thmazcff3bwgse.ipfs.w3s.link/ipfs_datapackage.yaml\n"
   ]
  },
  {
   "cell_type": "code",
   "execution_count": 9,
   "metadata": {},
   "outputs": [],
   "source": [
    "c = Catalog(\"/tmp/datapackage_catalog.yaml\")\n"
   ]
  },
  {
   "cell_type": "code",
   "execution_count": 15,
   "metadata": {},
   "outputs": [
    {
     "data": {
      "text/html": [
       "<div>\n",
       "<style scoped>\n",
       "    .dataframe tbody tr th:only-of-type {\n",
       "        vertical-align: middle;\n",
       "    }\n",
       "\n",
       "    .dataframe tbody tr th {\n",
       "        vertical-align: top;\n",
       "    }\n",
       "\n",
       "    .dataframe thead th {\n",
       "        text-align: right;\n",
       "    }\n",
       "</style>\n",
       "<table border=\"1\" class=\"dataframe\">\n",
       "  <thead>\n",
       "    <tr style=\"text-align: right;\">\n",
       "      <th></th>\n",
       "      <th>Date</th>\n",
       "      <th>Price</th>\n",
       "    </tr>\n",
       "  </thead>\n",
       "  <tbody>\n",
       "    <tr>\n",
       "      <th>9101</th>\n",
       "      <td>2023-03-28</td>\n",
       "      <td>78.07</td>\n",
       "    </tr>\n",
       "    <tr>\n",
       "      <th>9102</th>\n",
       "      <td>2023-03-29</td>\n",
       "      <td>77.51</td>\n",
       "    </tr>\n",
       "    <tr>\n",
       "      <th>9103</th>\n",
       "      <td>2023-03-30</td>\n",
       "      <td>78.45</td>\n",
       "    </tr>\n",
       "    <tr>\n",
       "      <th>9104</th>\n",
       "      <td>2023-03-31</td>\n",
       "      <td>79.19</td>\n",
       "    </tr>\n",
       "    <tr>\n",
       "      <th>9105</th>\n",
       "      <td>2023-04-03</td>\n",
       "      <td>85.81</td>\n",
       "    </tr>\n",
       "  </tbody>\n",
       "</table>\n",
       "</div>"
      ],
      "text/plain": [
       "           Date  Price\n",
       "9101 2023-03-28  78.07\n",
       "9102 2023-03-29  77.51\n",
       "9103 2023-03-30  78.45\n",
       "9104 2023-03-31  79.19\n",
       "9105 2023-04-03  85.81"
      ]
     },
     "execution_count": 15,
     "metadata": {},
     "output_type": "execute_result"
    }
   ],
   "source": [
    "c.get_dataset(\"oil\").package.get_resource(\"brent-daily\").to_pandas().tail(5)\n"
   ]
  }
 ],
 "metadata": {
  "kernelspec": {
   "display_name": "Python 3",
   "language": "python",
   "name": "python3"
  },
  "language_info": {
   "codemirror_mode": {
    "name": "ipython",
    "version": 3
   },
   "file_extension": ".py",
   "mimetype": "text/x-python",
   "name": "python",
   "nbconvert_exporter": "python",
   "pygments_lexer": "ipython3",
   "version": "3.11.2"
  },
  "orig_nbformat": 4
 },
 "nbformat": 4,
 "nbformat_minor": 2
}
